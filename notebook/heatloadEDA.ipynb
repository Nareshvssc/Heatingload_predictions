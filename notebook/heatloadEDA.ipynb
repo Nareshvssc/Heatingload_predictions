{
 "cells": [
  {
   "cell_type": "code",
   "execution_count": 1,
   "id": "845c3eff",
   "metadata": {},
   "outputs": [],
   "source": [
    "import pandas as pd\n",
    "import numpy as np\n",
    "import seaborn as sns\n",
    "import matplotlib.pyplot as plt\n"
   ]
  },
  {
   "cell_type": "code",
   "execution_count": 2,
   "id": "c116d440",
   "metadata": {},
   "outputs": [
    {
     "name": "stdout",
     "output_type": "stream",
     "text": [
      "\n",
      "[notice] A new release of pip available: 22.1.2 -> 22.2.1\n",
      "[notice] To update, run: python.exe -m pip install --upgrade pip\n"
     ]
    },
    {
     "name": "stderr",
     "output_type": "stream",
     "text": [
      "ERROR: Could not find a version that satisfies the requirement openpxyl (from versions: none)\n",
      "ERROR: No matching distribution found for openpxyl\n"
     ]
    }
   ],
   "source": [
    "!pip install openpxyl"
   ]
  },
  {
   "cell_type": "code",
   "execution_count": 4,
   "id": "2ce8500e",
   "metadata": {},
   "outputs": [
    {
     "ename": "ImportError",
     "evalue": "Missing optional dependency 'openpyxl'.  Use pip or conda to install openpyxl.",
     "output_type": "error",
     "traceback": [
      "\u001b[1;31m---------------------------------------------------------------------------\u001b[0m",
      "\u001b[1;31mModuleNotFoundError\u001b[0m                       Traceback (most recent call last)",
      "File \u001b[1;32mc:\\Users\\nares\\AppData\\Local\\Programs\\Python\\Python38-32\\lib\\site-packages\\pandas\\compat\\_optional.py:138\u001b[0m, in \u001b[0;36mimport_optional_dependency\u001b[1;34m(name, extra, errors, min_version)\u001b[0m\n\u001b[0;32m    137\u001b[0m \u001b[39mtry\u001b[39;00m:\n\u001b[1;32m--> 138\u001b[0m     module \u001b[39m=\u001b[39m importlib\u001b[39m.\u001b[39;49mimport_module(name)\n\u001b[0;32m    139\u001b[0m \u001b[39mexcept\u001b[39;00m \u001b[39mImportError\u001b[39;00m:\n",
      "File \u001b[1;32mc:\\Users\\nares\\AppData\\Local\\Programs\\Python\\Python38-32\\lib\\importlib\\__init__.py:127\u001b[0m, in \u001b[0;36mimport_module\u001b[1;34m(name, package)\u001b[0m\n\u001b[0;32m    126\u001b[0m         level \u001b[39m+\u001b[39m\u001b[39m=\u001b[39m \u001b[39m1\u001b[39m\n\u001b[1;32m--> 127\u001b[0m \u001b[39mreturn\u001b[39;00m _bootstrap\u001b[39m.\u001b[39;49m_gcd_import(name[level:], package, level)\n",
      "File \u001b[1;32m<frozen importlib._bootstrap>:1014\u001b[0m, in \u001b[0;36m_gcd_import\u001b[1;34m(name, package, level)\u001b[0m\n",
      "File \u001b[1;32m<frozen importlib._bootstrap>:991\u001b[0m, in \u001b[0;36m_find_and_load\u001b[1;34m(name, import_)\u001b[0m\n",
      "File \u001b[1;32m<frozen importlib._bootstrap>:973\u001b[0m, in \u001b[0;36m_find_and_load_unlocked\u001b[1;34m(name, import_)\u001b[0m\n",
      "\u001b[1;31mModuleNotFoundError\u001b[0m: No module named 'openpyxl'",
      "\nDuring handling of the above exception, another exception occurred:\n",
      "\u001b[1;31mImportError\u001b[0m                               Traceback (most recent call last)",
      "\u001b[1;32me:\\Python Programming\\Machine learing projects start\\Internship\\Heatingload_predictions\\notebook\\heatloadEDA.ipynb Cell 3\u001b[0m in \u001b[0;36m<cell line: 1>\u001b[1;34m()\u001b[0m\n\u001b[1;32m----> <a href='vscode-notebook-cell:/e%3A/Python%20Programming/Machine%20learing%20projects%20start/Internship/Heatingload_predictions/notebook/heatloadEDA.ipynb#ch0000001?line=0'>1</a>\u001b[0m dataset \u001b[39m=\u001b[39m pd\u001b[39m.\u001b[39;49mread_excel(\u001b[39mr\u001b[39;49m\u001b[39m'\u001b[39;49m\u001b[39mE:\u001b[39;49m\u001b[39m\\\u001b[39;49m\u001b[39mPython Programming\u001b[39;49m\u001b[39m\\\u001b[39;49m\u001b[39mHLandCL\u001b[39;49m\u001b[39m\\\u001b[39;49m\u001b[39mENB2012_data.xlsx\u001b[39;49m\u001b[39m'\u001b[39;49m,usecols\u001b[39m=\u001b[39;49m[\u001b[39m'\u001b[39;49m\u001b[39mX1\u001b[39;49m\u001b[39m'\u001b[39;49m,\u001b[39m'\u001b[39;49m\u001b[39mX2\u001b[39;49m\u001b[39m'\u001b[39;49m,\u001b[39m'\u001b[39;49m\u001b[39mX3\u001b[39;49m\u001b[39m'\u001b[39;49m,\u001b[39m'\u001b[39;49m\u001b[39mX4\u001b[39;49m\u001b[39m'\u001b[39;49m,\u001b[39m'\u001b[39;49m\u001b[39mX5\u001b[39;49m\u001b[39m'\u001b[39;49m,\u001b[39m'\u001b[39;49m\u001b[39mX6\u001b[39;49m\u001b[39m'\u001b[39;49m,\u001b[39m'\u001b[39;49m\u001b[39mX7\u001b[39;49m\u001b[39m'\u001b[39;49m,\u001b[39m'\u001b[39;49m\u001b[39mX8\u001b[39;49m\u001b[39m'\u001b[39;49m,\u001b[39m'\u001b[39;49m\u001b[39mY1\u001b[39;49m\u001b[39m'\u001b[39;49m,\u001b[39m'\u001b[39;49m\u001b[39mY2\u001b[39;49m\u001b[39m'\u001b[39;49m])\n",
      "File \u001b[1;32mc:\\Users\\nares\\AppData\\Local\\Programs\\Python\\Python38-32\\lib\\site-packages\\pandas\\util\\_decorators.py:311\u001b[0m, in \u001b[0;36mdeprecate_nonkeyword_arguments.<locals>.decorate.<locals>.wrapper\u001b[1;34m(*args, **kwargs)\u001b[0m\n\u001b[0;32m    305\u001b[0m \u001b[39mif\u001b[39;00m \u001b[39mlen\u001b[39m(args) \u001b[39m>\u001b[39m num_allow_args:\n\u001b[0;32m    306\u001b[0m     warnings\u001b[39m.\u001b[39mwarn(\n\u001b[0;32m    307\u001b[0m         msg\u001b[39m.\u001b[39mformat(arguments\u001b[39m=\u001b[39marguments),\n\u001b[0;32m    308\u001b[0m         \u001b[39mFutureWarning\u001b[39;00m,\n\u001b[0;32m    309\u001b[0m         stacklevel\u001b[39m=\u001b[39mstacklevel,\n\u001b[0;32m    310\u001b[0m     )\n\u001b[1;32m--> 311\u001b[0m \u001b[39mreturn\u001b[39;00m func(\u001b[39m*\u001b[39;49margs, \u001b[39m*\u001b[39;49m\u001b[39m*\u001b[39;49mkwargs)\n",
      "File \u001b[1;32mc:\\Users\\nares\\AppData\\Local\\Programs\\Python\\Python38-32\\lib\\site-packages\\pandas\\io\\excel\\_base.py:457\u001b[0m, in \u001b[0;36mread_excel\u001b[1;34m(io, sheet_name, header, names, index_col, usecols, squeeze, dtype, engine, converters, true_values, false_values, skiprows, nrows, na_values, keep_default_na, na_filter, verbose, parse_dates, date_parser, thousands, decimal, comment, skipfooter, convert_float, mangle_dupe_cols, storage_options)\u001b[0m\n\u001b[0;32m    455\u001b[0m \u001b[39mif\u001b[39;00m \u001b[39mnot\u001b[39;00m \u001b[39misinstance\u001b[39m(io, ExcelFile):\n\u001b[0;32m    456\u001b[0m     should_close \u001b[39m=\u001b[39m \u001b[39mTrue\u001b[39;00m\n\u001b[1;32m--> 457\u001b[0m     io \u001b[39m=\u001b[39m ExcelFile(io, storage_options\u001b[39m=\u001b[39;49mstorage_options, engine\u001b[39m=\u001b[39;49mengine)\n\u001b[0;32m    458\u001b[0m \u001b[39melif\u001b[39;00m engine \u001b[39mand\u001b[39;00m engine \u001b[39m!=\u001b[39m io\u001b[39m.\u001b[39mengine:\n\u001b[0;32m    459\u001b[0m     \u001b[39mraise\u001b[39;00m \u001b[39mValueError\u001b[39;00m(\n\u001b[0;32m    460\u001b[0m         \u001b[39m\"\u001b[39m\u001b[39mEngine should not be specified when passing \u001b[39m\u001b[39m\"\u001b[39m\n\u001b[0;32m    461\u001b[0m         \u001b[39m\"\u001b[39m\u001b[39man ExcelFile - ExcelFile already has the engine set\u001b[39m\u001b[39m\"\u001b[39m\n\u001b[0;32m    462\u001b[0m     )\n",
      "File \u001b[1;32mc:\\Users\\nares\\AppData\\Local\\Programs\\Python\\Python38-32\\lib\\site-packages\\pandas\\io\\excel\\_base.py:1419\u001b[0m, in \u001b[0;36mExcelFile.__init__\u001b[1;34m(self, path_or_buffer, engine, storage_options)\u001b[0m\n\u001b[0;32m   1416\u001b[0m \u001b[39mself\u001b[39m\u001b[39m.\u001b[39mengine \u001b[39m=\u001b[39m engine\n\u001b[0;32m   1417\u001b[0m \u001b[39mself\u001b[39m\u001b[39m.\u001b[39mstorage_options \u001b[39m=\u001b[39m storage_options\n\u001b[1;32m-> 1419\u001b[0m \u001b[39mself\u001b[39m\u001b[39m.\u001b[39m_reader \u001b[39m=\u001b[39m \u001b[39mself\u001b[39;49m\u001b[39m.\u001b[39;49m_engines[engine](\u001b[39mself\u001b[39;49m\u001b[39m.\u001b[39;49m_io, storage_options\u001b[39m=\u001b[39;49mstorage_options)\n",
      "File \u001b[1;32mc:\\Users\\nares\\AppData\\Local\\Programs\\Python\\Python38-32\\lib\\site-packages\\pandas\\io\\excel\\_openpyxl.py:524\u001b[0m, in \u001b[0;36mOpenpyxlReader.__init__\u001b[1;34m(self, filepath_or_buffer, storage_options)\u001b[0m\n\u001b[0;32m    509\u001b[0m \u001b[39mdef\u001b[39;00m \u001b[39m__init__\u001b[39m(\n\u001b[0;32m    510\u001b[0m     \u001b[39mself\u001b[39m,\n\u001b[0;32m    511\u001b[0m     filepath_or_buffer: FilePath \u001b[39m|\u001b[39m ReadBuffer[\u001b[39mbytes\u001b[39m],\n\u001b[0;32m    512\u001b[0m     storage_options: StorageOptions \u001b[39m=\u001b[39m \u001b[39mNone\u001b[39;00m,\n\u001b[0;32m    513\u001b[0m ) \u001b[39m-\u001b[39m\u001b[39m>\u001b[39m \u001b[39mNone\u001b[39;00m:\n\u001b[0;32m    514\u001b[0m     \u001b[39m\"\"\"\u001b[39;00m\n\u001b[0;32m    515\u001b[0m \u001b[39m    Reader using openpyxl engine.\u001b[39;00m\n\u001b[0;32m    516\u001b[0m \n\u001b[1;32m   (...)\u001b[0m\n\u001b[0;32m    522\u001b[0m \u001b[39m        passed to fsspec for appropriate URLs (see ``_get_filepath_or_buffer``)\u001b[39;00m\n\u001b[0;32m    523\u001b[0m \u001b[39m    \"\"\"\u001b[39;00m\n\u001b[1;32m--> 524\u001b[0m     import_optional_dependency(\u001b[39m\"\u001b[39;49m\u001b[39mopenpyxl\u001b[39;49m\u001b[39m\"\u001b[39;49m)\n\u001b[0;32m    525\u001b[0m     \u001b[39msuper\u001b[39m()\u001b[39m.\u001b[39m\u001b[39m__init__\u001b[39m(filepath_or_buffer, storage_options\u001b[39m=\u001b[39mstorage_options)\n",
      "File \u001b[1;32mc:\\Users\\nares\\AppData\\Local\\Programs\\Python\\Python38-32\\lib\\site-packages\\pandas\\compat\\_optional.py:141\u001b[0m, in \u001b[0;36mimport_optional_dependency\u001b[1;34m(name, extra, errors, min_version)\u001b[0m\n\u001b[0;32m    139\u001b[0m \u001b[39mexcept\u001b[39;00m \u001b[39mImportError\u001b[39;00m:\n\u001b[0;32m    140\u001b[0m     \u001b[39mif\u001b[39;00m errors \u001b[39m==\u001b[39m \u001b[39m\"\u001b[39m\u001b[39mraise\u001b[39m\u001b[39m\"\u001b[39m:\n\u001b[1;32m--> 141\u001b[0m         \u001b[39mraise\u001b[39;00m \u001b[39mImportError\u001b[39;00m(msg)\n\u001b[0;32m    142\u001b[0m     \u001b[39melse\u001b[39;00m:\n\u001b[0;32m    143\u001b[0m         \u001b[39mreturn\u001b[39;00m \u001b[39mNone\u001b[39;00m\n",
      "\u001b[1;31mImportError\u001b[0m: Missing optional dependency 'openpyxl'.  Use pip or conda to install openpyxl."
     ]
    }
   ],
   "source": [
    "dataset = pd.read_excel(r'E:\\Python Programming\\HLandCL\\ENB2012_data.xlsx',usecols=['X1','X2','X3','X4','X5','X6','X7','X8','Y1','Y2'])"
   ]
  },
  {
   "cell_type": "code",
   "execution_count": 7,
   "id": "bad0a098",
   "metadata": {},
   "outputs": [
    {
     "data": {
      "text/html": [
       "<div>\n",
       "<style scoped>\n",
       "    .dataframe tbody tr th:only-of-type {\n",
       "        vertical-align: middle;\n",
       "    }\n",
       "\n",
       "    .dataframe tbody tr th {\n",
       "        vertical-align: top;\n",
       "    }\n",
       "\n",
       "    .dataframe thead th {\n",
       "        text-align: right;\n",
       "    }\n",
       "</style>\n",
       "<table border=\"1\" class=\"dataframe\">\n",
       "  <thead>\n",
       "    <tr style=\"text-align: right;\">\n",
       "      <th></th>\n",
       "      <th>X1</th>\n",
       "      <th>X2</th>\n",
       "      <th>X3</th>\n",
       "      <th>X4</th>\n",
       "      <th>X5</th>\n",
       "      <th>X6</th>\n",
       "      <th>X7</th>\n",
       "      <th>X8</th>\n",
       "      <th>Y1</th>\n",
       "      <th>Y2</th>\n",
       "    </tr>\n",
       "  </thead>\n",
       "  <tbody>\n",
       "    <tr>\n",
       "      <th>0</th>\n",
       "      <td>0.98</td>\n",
       "      <td>514.5</td>\n",
       "      <td>294.0</td>\n",
       "      <td>110.25</td>\n",
       "      <td>7.0</td>\n",
       "      <td>2</td>\n",
       "      <td>0.0</td>\n",
       "      <td>0</td>\n",
       "      <td>15.55</td>\n",
       "      <td>21.33</td>\n",
       "    </tr>\n",
       "    <tr>\n",
       "      <th>1</th>\n",
       "      <td>0.98</td>\n",
       "      <td>514.5</td>\n",
       "      <td>294.0</td>\n",
       "      <td>110.25</td>\n",
       "      <td>7.0</td>\n",
       "      <td>3</td>\n",
       "      <td>0.0</td>\n",
       "      <td>0</td>\n",
       "      <td>15.55</td>\n",
       "      <td>21.33</td>\n",
       "    </tr>\n",
       "    <tr>\n",
       "      <th>2</th>\n",
       "      <td>0.98</td>\n",
       "      <td>514.5</td>\n",
       "      <td>294.0</td>\n",
       "      <td>110.25</td>\n",
       "      <td>7.0</td>\n",
       "      <td>4</td>\n",
       "      <td>0.0</td>\n",
       "      <td>0</td>\n",
       "      <td>15.55</td>\n",
       "      <td>21.33</td>\n",
       "    </tr>\n",
       "    <tr>\n",
       "      <th>3</th>\n",
       "      <td>0.98</td>\n",
       "      <td>514.5</td>\n",
       "      <td>294.0</td>\n",
       "      <td>110.25</td>\n",
       "      <td>7.0</td>\n",
       "      <td>5</td>\n",
       "      <td>0.0</td>\n",
       "      <td>0</td>\n",
       "      <td>15.55</td>\n",
       "      <td>21.33</td>\n",
       "    </tr>\n",
       "    <tr>\n",
       "      <th>4</th>\n",
       "      <td>0.90</td>\n",
       "      <td>563.5</td>\n",
       "      <td>318.5</td>\n",
       "      <td>122.50</td>\n",
       "      <td>7.0</td>\n",
       "      <td>2</td>\n",
       "      <td>0.0</td>\n",
       "      <td>0</td>\n",
       "      <td>20.84</td>\n",
       "      <td>28.28</td>\n",
       "    </tr>\n",
       "  </tbody>\n",
       "</table>\n",
       "</div>"
      ],
      "text/plain": [
       "     X1     X2     X3      X4   X5  X6   X7  X8     Y1     Y2\n",
       "0  0.98  514.5  294.0  110.25  7.0   2  0.0   0  15.55  21.33\n",
       "1  0.98  514.5  294.0  110.25  7.0   3  0.0   0  15.55  21.33\n",
       "2  0.98  514.5  294.0  110.25  7.0   4  0.0   0  15.55  21.33\n",
       "3  0.98  514.5  294.0  110.25  7.0   5  0.0   0  15.55  21.33\n",
       "4  0.90  563.5  318.5  122.50  7.0   2  0.0   0  20.84  28.28"
      ]
     },
     "execution_count": 7,
     "metadata": {},
     "output_type": "execute_result"
    }
   ],
   "source": [
    "dataset.head()"
   ]
  },
  {
   "cell_type": "code",
   "execution_count": 12,
   "id": "d8cc380b",
   "metadata": {},
   "outputs": [],
   "source": [
    "dataset.rename(columns={'X1':'Relative_Compactness','X2':'Surface_Area','X3':'Wall_area','X4':'Roof_area','X5':'Overall_height','X6':'Orientation'\n",
    "               ,'X7':'Orientation','X8':'Glazing_area_distr','Y1':'HL','Y2':'CL'},inplace=True)"
   ]
  },
  {
   "cell_type": "code",
   "execution_count": null,
   "id": "db521701",
   "metadata": {},
   "outputs": [],
   "source": []
  },
  {
   "cell_type": "code",
   "execution_count": 13,
   "id": "4a0dade9",
   "metadata": {},
   "outputs": [
    {
     "data": {
      "text/html": [
       "<div>\n",
       "<style scoped>\n",
       "    .dataframe tbody tr th:only-of-type {\n",
       "        vertical-align: middle;\n",
       "    }\n",
       "\n",
       "    .dataframe tbody tr th {\n",
       "        vertical-align: top;\n",
       "    }\n",
       "\n",
       "    .dataframe thead th {\n",
       "        text-align: right;\n",
       "    }\n",
       "</style>\n",
       "<table border=\"1\" class=\"dataframe\">\n",
       "  <thead>\n",
       "    <tr style=\"text-align: right;\">\n",
       "      <th></th>\n",
       "      <th>Relative_Compactness</th>\n",
       "      <th>Surface_Area</th>\n",
       "      <th>Wall_area</th>\n",
       "      <th>Roof_area</th>\n",
       "      <th>Overall_height</th>\n",
       "      <th>Orientation</th>\n",
       "      <th>Glazing_area</th>\n",
       "      <th>Glazing_area_distr</th>\n",
       "      <th>HL</th>\n",
       "      <th>CL</th>\n",
       "    </tr>\n",
       "  </thead>\n",
       "  <tbody>\n",
       "    <tr>\n",
       "      <th>0</th>\n",
       "      <td>0.98</td>\n",
       "      <td>514.5</td>\n",
       "      <td>294.0</td>\n",
       "      <td>110.25</td>\n",
       "      <td>7.0</td>\n",
       "      <td>2</td>\n",
       "      <td>0.0</td>\n",
       "      <td>0</td>\n",
       "      <td>15.55</td>\n",
       "      <td>21.33</td>\n",
       "    </tr>\n",
       "    <tr>\n",
       "      <th>1</th>\n",
       "      <td>0.98</td>\n",
       "      <td>514.5</td>\n",
       "      <td>294.0</td>\n",
       "      <td>110.25</td>\n",
       "      <td>7.0</td>\n",
       "      <td>3</td>\n",
       "      <td>0.0</td>\n",
       "      <td>0</td>\n",
       "      <td>15.55</td>\n",
       "      <td>21.33</td>\n",
       "    </tr>\n",
       "    <tr>\n",
       "      <th>2</th>\n",
       "      <td>0.98</td>\n",
       "      <td>514.5</td>\n",
       "      <td>294.0</td>\n",
       "      <td>110.25</td>\n",
       "      <td>7.0</td>\n",
       "      <td>4</td>\n",
       "      <td>0.0</td>\n",
       "      <td>0</td>\n",
       "      <td>15.55</td>\n",
       "      <td>21.33</td>\n",
       "    </tr>\n",
       "    <tr>\n",
       "      <th>3</th>\n",
       "      <td>0.98</td>\n",
       "      <td>514.5</td>\n",
       "      <td>294.0</td>\n",
       "      <td>110.25</td>\n",
       "      <td>7.0</td>\n",
       "      <td>5</td>\n",
       "      <td>0.0</td>\n",
       "      <td>0</td>\n",
       "      <td>15.55</td>\n",
       "      <td>21.33</td>\n",
       "    </tr>\n",
       "    <tr>\n",
       "      <th>4</th>\n",
       "      <td>0.90</td>\n",
       "      <td>563.5</td>\n",
       "      <td>318.5</td>\n",
       "      <td>122.50</td>\n",
       "      <td>7.0</td>\n",
       "      <td>2</td>\n",
       "      <td>0.0</td>\n",
       "      <td>0</td>\n",
       "      <td>20.84</td>\n",
       "      <td>28.28</td>\n",
       "    </tr>\n",
       "  </tbody>\n",
       "</table>\n",
       "</div>"
      ],
      "text/plain": [
       "   Relative_Compactness  Surface_Area  Wall_area  Roof_area  Overall_height  \\\n",
       "0                  0.98         514.5      294.0     110.25             7.0   \n",
       "1                  0.98         514.5      294.0     110.25             7.0   \n",
       "2                  0.98         514.5      294.0     110.25             7.0   \n",
       "3                  0.98         514.5      294.0     110.25             7.0   \n",
       "4                  0.90         563.5      318.5     122.50             7.0   \n",
       "\n",
       "   Orientation  Glazing_area  Glazing_area_distr     HL     CL  \n",
       "0            2           0.0                   0  15.55  21.33  \n",
       "1            3           0.0                   0  15.55  21.33  \n",
       "2            4           0.0                   0  15.55  21.33  \n",
       "3            5           0.0                   0  15.55  21.33  \n",
       "4            2           0.0                   0  20.84  28.28  "
      ]
     },
     "execution_count": 13,
     "metadata": {},
     "output_type": "execute_result"
    }
   ],
   "source": [
    "dataset.head()"
   ]
  },
  {
   "cell_type": "code",
   "execution_count": 20,
   "id": "80d8cbbd",
   "metadata": {},
   "outputs": [],
   "source": [
    "target_columns =['HL','CL']"
   ]
  },
  {
   "cell_type": "code",
   "execution_count": 31,
   "id": "a0993cd6",
   "metadata": {},
   "outputs": [
    {
     "data": {
      "text/plain": [
       "768"
      ]
     },
     "execution_count": 31,
     "metadata": {},
     "output_type": "execute_result"
    }
   ],
   "source": [
    "len(dataset)"
   ]
  },
  {
   "cell_type": "code",
   "execution_count": null,
   "id": "8e52313d",
   "metadata": {},
   "outputs": [],
   "source": []
  },
  {
   "cell_type": "code",
   "execution_count": 30,
   "id": "25d24858",
   "metadata": {},
   "outputs": [
    {
     "name": "stdout",
     "output_type": "stream",
     "text": [
      "----the no. of unique values in Relative_Compactness 12\n",
      "----the no. of unique values in Surface_Area 12\n",
      "----the no. of unique values in Wall_area 7\n",
      "----the no. of unique values in Roof_area 4\n",
      "----the no. of unique values in Overall_height 2\n",
      "----the no. of unique values in Orientation 4\n",
      "----the no. of unique values in Glazing_area 4\n",
      "----the no. of unique values in Glazing_area_distr 6\n"
     ]
    }
   ],
   "source": [
    "## unique values in each columns\n",
    "input_columns = [column_name for column_name in dataset.columns if column_name not in target_columns]\n",
    "for column_name in input_columns:\n",
    "    print(f'----the no. of unique values in {column_name}',len(dataset[column_name].unique()))"
   ]
  },
  {
   "cell_type": "markdown",
   "id": "2fdb2512",
   "metadata": {},
   "source": [
    "### Inferences\n",
    "    1.This data is generated in 12 buildings as identified by Relative compactness.\n",
    "    2.All buildings have a volume of 771.75m3 but different surface areas and height reference from source \n",
    "    3.There are total 768 data points it can be infered that all the input columns are categorical types  "
   ]
  },
  {
   "cell_type": "code",
   "execution_count": 155,
   "id": "27035169",
   "metadata": {},
   "outputs": [
    {
     "data": {
      "text/plain": [
       "0.40    240\n",
       "0.10    240\n",
       "0.25    240\n",
       "0.00     48\n",
       "Name: Glazing_area, dtype: int64"
      ]
     },
     "execution_count": 155,
     "metadata": {},
     "output_type": "execute_result"
    }
   ],
   "source": [
    "dataset['Glazing_area'].value_counts()"
   ]
  },
  {
   "cell_type": "markdown",
   "id": "11feeabd",
   "metadata": {},
   "source": [
    "#### The values in glazing area represents the percentage of floor area "
   ]
  },
  {
   "attachments": {
    "variables%20info.jpg": {
     "image/jpeg": "[encoded data removed]"
    }
   },
   "cell_type": "markdown",
   "id": "29d7aeab",
   "metadata": {},
   "source": [
    "![variables%20info.jpg](attachment:variables%20info.jpg)"
   ]
  },
  {
   "cell_type": "code",
   "execution_count": 39,
   "id": "e6c339aa",
   "metadata": {},
   "outputs": [
    {
     "data": {
      "image/png": "[encoded data removed]",
      "text/plain": [
       "<Figure size 720x576 with 2 Axes>"
      ]
     },
     "metadata": {
      "needs_background": "light"
     },
     "output_type": "display_data"
    }
   ],
   "source": [
    "plt.figure(figsize=(10,8))\n",
    "sns.heatmap(dataset.corr(),annot=True,fmt='0.2f',linewidths=1)\n",
    "plt.show()"
   ]
  },
  {
   "cell_type": "code",
   "execution_count": 52,
   "id": "355c35ff",
   "metadata": {},
   "outputs": [],
   "source": [
    "import warnings\n",
    "warnings.filterwarnings('ignore')"
   ]
  },
  {
   "cell_type": "markdown",
   "id": "947928ed",
   "metadata": {},
   "source": [
    "#### Inferences \n",
    "    1. Relative compactness and surface area is inversly proportional one of the feature can be dropped  \n",
    "    2. Roof area and overall height are inversely proportional and one of the fearture can be dropped\n",
    "    "
   ]
  },
  {
   "cell_type": "code",
   "execution_count": null,
   "id": "352670b9",
   "metadata": {},
   "outputs": [],
   "source": []
  },
  {
   "cell_type": "code",
   "execution_count": null,
   "id": "254fa879",
   "metadata": {},
   "outputs": [],
   "source": []
  },
  {
   "cell_type": "code",
   "execution_count": null,
   "id": "09c985cd",
   "metadata": {},
   "outputs": [],
   "source": []
  },
  {
   "cell_type": "code",
   "execution_count": 135,
   "id": "ec485928",
   "metadata": {},
   "outputs": [],
   "source": [
    "catego_variables = input_columns"
   ]
  },
  {
   "cell_type": "code",
   "execution_count": 146,
   "id": "7a368c52",
   "metadata": {},
   "outputs": [
    {
     "data": {
      "image/png": "[encoded data removed]",
      "text/plain": [
       "<Figure size 1080x720 with 8 Axes>"
      ]
     },
     "metadata": {
      "needs_background": "light"
     },
     "output_type": "display_data"
    }
   ],
   "source": [
    "fig = plt.figure(figsize=(15,10))\n",
    "fig.subplots_adjust(hspace=0.4,wspace=0.4)\n",
    "for i,cat_name in enumerate(catego_variables):\n",
    "    ax = fig.add_subplot(4,4,i+1)\n",
    "    ax.hist(dataset[cat_name],bins=20,alpha=0.7,color='red',)\n",
    "    ax.set_xlabel(cat_name)\n",
    "    ax.set_ylabel('Count')"
   ]
  },
  {
   "cell_type": "markdown",
   "id": "b59cfd93",
   "metadata": {},
   "source": [
    "#### The Orientation can only take 4 values as it denotes the direction we will use the stratified split on Orientation  "
   ]
  },
  {
   "cell_type": "markdown",
   "id": "c7cef037",
   "metadata": {},
   "source": [
    " "
   ]
  },
  {
   "cell_type": "code",
   "execution_count": 142,
   "id": "d911a43d",
   "metadata": {},
   "outputs": [
    {
     "data": {
      "image/png": "[encoded data removed]",
      "text/plain": [
       "<Figure size 1080x720 with 8 Axes>"
      ]
     },
     "metadata": {
      "needs_background": "light"
     },
     "output_type": "display_data"
    }
   ],
   "source": [
    "fig = plt.figure(figsize=(15,10))\n",
    "fig.subplots_adjust(hspace=0.4,wspace=0.4)\n",
    "ax.set_title(\"With output variables\")\n",
    "for i,cat_name in enumerate(catego_variables):\n",
    "    ax = fig.add_subplot(4,4,i+1)\n",
    "    ax.scatter(dataset[cat_name],dataset['HL'])\n",
    "    ax.set_xlabel(cat_name)\n",
    "    ax.set_ylabel('Heating load')"
   ]
  },
  {
   "cell_type": "code",
   "execution_count": 141,
   "id": "0b1caef3",
   "metadata": {},
   "outputs": [
    {
     "data": {
      "image/png": "[encoded data removed]",
      "text/plain": [
       "<Figure size 1080x720 with 8 Axes>"
      ]
     },
     "metadata": {
      "needs_background": "light"
     },
     "output_type": "display_data"
    }
   ],
   "source": [
    "fig = plt.figure(figsize=(15,10))\n",
    "fig.subplots_adjust(hspace=0.4,wspace=0.4)\n",
    "ax.set_title(\"With output variables\")\n",
    "for i,cat_name in enumerate(catego_variables):\n",
    "    ax = fig.add_subplot(4,4,i+1)\n",
    "    ax.scatter(dataset[cat_name],dataset['CL'])\n",
    "    ax.set_xlabel(cat_name)\n",
    "    ax.set_ylabel('Cooling load')"
   ]
  },
  {
   "cell_type": "markdown",
   "id": "3c335bf7",
   "metadata": {},
   "source": [
    "#### it is observed that the hearting and colding load have multiple values thus all parameters are categorical in nature ,also the variation in HL and CL is same with variables only there is magnitude wise difference , the same can be observed in correlation HL  and CL are correlated by 0.98"
   ]
  },
  {
   "cell_type": "code",
   "execution_count": 144,
   "id": "968a2b7b",
   "metadata": {},
   "outputs": [
    {
     "name": "stdout",
     "output_type": "stream",
     "text": [
      "the null values in Relative_Compactness:: 0\n",
      "the null values in Surface_Area:: 0\n",
      "the null values in Wall_area:: 0\n",
      "the null values in Roof_area:: 0\n",
      "the null values in Overall_height:: 0\n",
      "the null values in Orientation:: 0\n",
      "the null values in Glazing_area:: 0\n",
      "the null values in Glazing_area_distr:: 0\n"
     ]
    }
   ],
   "source": [
    "for column_name in input_columns:\n",
    "    print(f'the null values in {column_name}::',dataset[column_name].isnull().sum())"
   ]
  },
  {
   "cell_type": "markdown",
   "id": "8b921523",
   "metadata": {},
   "source": [
    "#### No null values "
   ]
  },
  {
   "cell_type": "code",
   "execution_count": 145,
   "id": "a77df4e8",
   "metadata": {},
   "outputs": [
    {
     "data": {
      "text/plain": [
       "Relative_Compactness    float64\n",
       "Surface_Area            float64\n",
       "Wall_area               float64\n",
       "Roof_area               float64\n",
       "Overall_height          float64\n",
       "Orientation               int64\n",
       "Glazing_area            float64\n",
       "Glazing_area_distr        int64\n",
       "HL                      float64\n",
       "CL                      float64\n",
       "dtype: object"
      ]
     },
     "execution_count": 145,
     "metadata": {},
     "output_type": "execute_result"
    }
   ],
   "source": [
    "dataset.dtypes"
   ]
  },
  {
   "cell_type": "markdown",
   "id": "ac72694a",
   "metadata": {},
   "source": [
    "#### All values are numerical in nature "
   ]
  },
  {
   "cell_type": "code",
   "execution_count": 161,
   "id": "5852beb2",
   "metadata": {},
   "outputs": [
    {
     "ename": "SyntaxError",
     "evalue": "invalid syntax (<ipython-input-161-c5109c1995a1>, line 1)",
     "output_type": "error",
     "traceback": [
      "\u001b[1;36m  File \u001b[1;32m\"<ipython-input-161-c5109c1995a1>\"\u001b[1;36m, line \u001b[1;32m1\u001b[0m\n\u001b[1;33m    Outlier detection\u001b[0m\n\u001b[1;37m            ^\u001b[0m\n\u001b[1;31mSyntaxError\u001b[0m\u001b[1;31m:\u001b[0m invalid syntax\n"
     ]
    }
   ],
   "source": [
    "Outlier detection\n"
   ]
  },
  {
   "cell_type": "code",
   "execution_count": 173,
   "id": "9aca5254",
   "metadata": {},
   "outputs": [
    {
     "data": {
      "image/png": "[encoded data removed]",
      "text/plain": [
       "<Figure size 1080x720 with 8 Axes>"
      ]
     },
     "metadata": {
      "needs_background": "light"
     },
     "output_type": "display_data"
    }
   ],
   "source": [
    "fig = plt.figure(figsize=(15,10))\n",
    "fig.subplots_adjust(hspace=0.4,wspace=0.4)\n",
    "for i,column_name in enumerate(input_columns):\n",
    "    ax = fig.add_subplot(4,2,i+1)\n",
    "    ax.boxplot(x=dataset[column_name])\n",
    "    ax.set_xlabel(column_name)"
   ]
  },
  {
   "cell_type": "code",
   "execution_count": 174,
   "id": "6643110c",
   "metadata": {},
   "outputs": [],
   "source": [
    "#no outliers in dataset"
   ]
  },
  {
   "cell_type": "markdown",
   "id": "76ee45da",
   "metadata": {},
   "source": [
    "### Data Transformation "
   ]
  },
  {
   "cell_type": "code",
   "execution_count": 156,
   "id": "d18983fc",
   "metadata": {},
   "outputs": [],
   "source": [
    "#standard scaler transformation\n",
    "from sklearn.preprocessing import StandardScaler\n",
    "scaler = StandardScaler()"
   ]
  },
  {
   "cell_type": "code",
   "execution_count": 159,
   "id": "93364cee",
   "metadata": {},
   "outputs": [],
   "source": [
    "scal_dataset_arr = scaler.fit_transform(dataset)\n",
    "scal_dataset = pd.DataFrame(data=scal_dataset_arr,columns=dataset.columns)"
   ]
  },
  {
   "cell_type": "code",
   "execution_count": 160,
   "id": "fade1efa",
   "metadata": {},
   "outputs": [
    {
     "data": {
      "image/png": "[encoded data removed]",
      "text/plain": [
       "<Figure size 1080x720 with 8 Axes>"
      ]
     },
     "metadata": {
      "needs_background": "light"
     },
     "output_type": "display_data"
    }
   ],
   "source": [
    "fig = plt.figure(figsize=(15,10))\n",
    "fig.subplots_adjust(hspace=0.4,wspace=0.4)\n",
    "for i,cat_name in enumerate(catego_variables):\n",
    "    ax = fig.add_subplot(4,4,i+1)\n",
    "    ax.hist(scal_dataset[cat_name],bins=20,alpha=0.7,color='red',)\n",
    "    ax.set_xlabel(cat_name)\n",
    "    ax.set_ylabel('Count')"
   ]
  },
  {
   "cell_type": "code",
   "execution_count": 184,
   "id": "55e546c1",
   "metadata": {},
   "outputs": [],
   "source": [
    "from sklearn.model_selection import StratifiedShuffleSplit\n",
    "from sklearn.linear_model import LinearRegression"
   ]
  },
  {
   "cell_type": "code",
   "execution_count": 176,
   "id": "c49aa2fb",
   "metadata": {},
   "outputs": [
    {
     "data": {
      "text/html": [
       "<div>\n",
       "<style scoped>\n",
       "    .dataframe tbody tr th:only-of-type {\n",
       "        vertical-align: middle;\n",
       "    }\n",
       "\n",
       "    .dataframe tbody tr th {\n",
       "        vertical-align: top;\n",
       "    }\n",
       "\n",
       "    .dataframe thead th {\n",
       "        text-align: right;\n",
       "    }\n",
       "</style>\n",
       "<table border=\"1\" class=\"dataframe\">\n",
       "  <thead>\n",
       "    <tr style=\"text-align: right;\">\n",
       "      <th></th>\n",
       "      <th>Relative_Compactness</th>\n",
       "      <th>Surface_Area</th>\n",
       "      <th>Wall_area</th>\n",
       "      <th>Roof_area</th>\n",
       "      <th>Overall_height</th>\n",
       "      <th>Orientation</th>\n",
       "      <th>Glazing_area</th>\n",
       "      <th>Glazing_area_distr</th>\n",
       "      <th>HL</th>\n",
       "      <th>CL</th>\n",
       "    </tr>\n",
       "  </thead>\n",
       "  <tbody>\n",
       "    <tr>\n",
       "      <th>0</th>\n",
       "      <td>0.98</td>\n",
       "      <td>514.5</td>\n",
       "      <td>294.0</td>\n",
       "      <td>110.25</td>\n",
       "      <td>7.0</td>\n",
       "      <td>2</td>\n",
       "      <td>0.0</td>\n",
       "      <td>0</td>\n",
       "      <td>15.55</td>\n",
       "      <td>21.33</td>\n",
       "    </tr>\n",
       "    <tr>\n",
       "      <th>1</th>\n",
       "      <td>0.98</td>\n",
       "      <td>514.5</td>\n",
       "      <td>294.0</td>\n",
       "      <td>110.25</td>\n",
       "      <td>7.0</td>\n",
       "      <td>3</td>\n",
       "      <td>0.0</td>\n",
       "      <td>0</td>\n",
       "      <td>15.55</td>\n",
       "      <td>21.33</td>\n",
       "    </tr>\n",
       "    <tr>\n",
       "      <th>2</th>\n",
       "      <td>0.98</td>\n",
       "      <td>514.5</td>\n",
       "      <td>294.0</td>\n",
       "      <td>110.25</td>\n",
       "      <td>7.0</td>\n",
       "      <td>4</td>\n",
       "      <td>0.0</td>\n",
       "      <td>0</td>\n",
       "      <td>15.55</td>\n",
       "      <td>21.33</td>\n",
       "    </tr>\n",
       "    <tr>\n",
       "      <th>3</th>\n",
       "      <td>0.98</td>\n",
       "      <td>514.5</td>\n",
       "      <td>294.0</td>\n",
       "      <td>110.25</td>\n",
       "      <td>7.0</td>\n",
       "      <td>5</td>\n",
       "      <td>0.0</td>\n",
       "      <td>0</td>\n",
       "      <td>15.55</td>\n",
       "      <td>21.33</td>\n",
       "    </tr>\n",
       "    <tr>\n",
       "      <th>4</th>\n",
       "      <td>0.90</td>\n",
       "      <td>563.5</td>\n",
       "      <td>318.5</td>\n",
       "      <td>122.50</td>\n",
       "      <td>7.0</td>\n",
       "      <td>2</td>\n",
       "      <td>0.0</td>\n",
       "      <td>0</td>\n",
       "      <td>20.84</td>\n",
       "      <td>28.28</td>\n",
       "    </tr>\n",
       "  </tbody>\n",
       "</table>\n",
       "</div>"
      ],
      "text/plain": [
       "   Relative_Compactness  Surface_Area  Wall_area  Roof_area  Overall_height  \\\n",
       "0                  0.98         514.5      294.0     110.25             7.0   \n",
       "1                  0.98         514.5      294.0     110.25             7.0   \n",
       "2                  0.98         514.5      294.0     110.25             7.0   \n",
       "3                  0.98         514.5      294.0     110.25             7.0   \n",
       "4                  0.90         563.5      318.5     122.50             7.0   \n",
       "\n",
       "   Orientation  Glazing_area  Glazing_area_distr     HL     CL  \n",
       "0            2           0.0                   0  15.55  21.33  \n",
       "1            3           0.0                   0  15.55  21.33  \n",
       "2            4           0.0                   0  15.55  21.33  \n",
       "3            5           0.0                   0  15.55  21.33  \n",
       "4            2           0.0                   0  20.84  28.28  "
      ]
     },
     "execution_count": 176,
     "metadata": {},
     "output_type": "execute_result"
    }
   ],
   "source": [
    "dataset.head()"
   ]
  },
  {
   "cell_type": "code",
   "execution_count": 183,
   "id": "aa329346",
   "metadata": {},
   "outputs": [],
   "source": []
  },
  {
   "cell_type": "code",
   "execution_count": 185,
   "id": "b5a10c37",
   "metadata": {},
   "outputs": [],
   "source": [
    "split = StratifiedShuffleSplit(n_splits=1,test_size=0.2,random_state=22)"
   ]
  },
  {
   "cell_type": "code",
   "execution_count": 186,
   "id": "c8dd84e6",
   "metadata": {},
   "outputs": [],
   "source": [
    "for train_index,test_index in split.split(dataset,dataset['Orientation']):\n",
    "    train_df = dataset.iloc[train_index]\n",
    "    test_df = dataset.iloc[test_index]"
   ]
  },
  {
   "cell_type": "code",
   "execution_count": 191,
   "id": "555ab72c",
   "metadata": {},
   "outputs": [
    {
     "data": {
      "text/plain": [
       "4    0.250814\n",
       "5    0.250814\n",
       "2    0.249186\n",
       "3    0.249186\n",
       "Name: Orientation, dtype: float64"
      ]
     },
     "execution_count": 191,
     "metadata": {},
     "output_type": "execute_result"
    }
   ],
   "source": [
    "train_df['Orientation'].value_counts()/len(train_df)"
   ]
  },
  {
   "cell_type": "code",
   "execution_count": 192,
   "id": "ab7072c4",
   "metadata": {},
   "outputs": [
    {
     "data": {
      "text/plain": [
       "2    0.253247\n",
       "3    0.253247\n",
       "4    0.246753\n",
       "5    0.246753\n",
       "Name: Orientation, dtype: float64"
      ]
     },
     "execution_count": 192,
     "metadata": {},
     "output_type": "execute_result"
    }
   ],
   "source": [
    "test_df['Orientation'].value_counts()/len(test_df)\n"
   ]
  },
  {
   "cell_type": "code",
   "execution_count": 275,
   "id": "9a59ed39",
   "metadata": {},
   "outputs": [],
   "source": [
    "X_train_df = train_df.iloc[:,:-2]\n",
    "y_train_df = train_df.iloc[:,-2]\n",
    "X_test_df = test_df.iloc[:,:-2]\n",
    "y_test_df = test_df.iloc[:,-2]"
   ]
  },
  {
   "cell_type": "code",
   "execution_count": 276,
   "id": "b382858e",
   "metadata": {},
   "outputs": [],
   "source": [
    "scaler = StandardScaler()\n",
    "X_train_arr = scaler.fit_transform(X_train_df)"
   ]
  },
  {
   "cell_type": "code",
   "execution_count": 277,
   "id": "ba5e941d",
   "metadata": {},
   "outputs": [],
   "source": [
    "X_test_arr = scaler.transform(X_test_df)"
   ]
  },
  {
   "cell_type": "code",
   "execution_count": 278,
   "id": "d8c2400f",
   "metadata": {},
   "outputs": [],
   "source": [
    "linear_model = LinearRegression()"
   ]
  },
  {
   "cell_type": "code",
   "execution_count": null,
   "id": "0fd3fa27",
   "metadata": {},
   "outputs": [],
   "source": []
  },
  {
   "cell_type": "code",
   "execution_count": 279,
   "id": "9fe936a1",
   "metadata": {},
   "outputs": [],
   "source": [
    "#y_train_arr = np.array(y_train_df).reshape(-1,1)"
   ]
  },
  {
   "cell_type": "code",
   "execution_count": 280,
   "id": "12a9655b",
   "metadata": {},
   "outputs": [
    {
     "data": {
      "text/plain": [
       "LinearRegression()"
      ]
     },
     "execution_count": 280,
     "metadata": {},
     "output_type": "execute_result"
    }
   ],
   "source": [
    "linear_model.fit(X_train_arr,y_train_df)"
   ]
  },
  {
   "cell_type": "code",
   "execution_count": 281,
   "id": "524e8eef",
   "metadata": {},
   "outputs": [],
   "source": [
    "y_predict = linear_model.predict(X_test_arr)"
   ]
  },
  {
   "cell_type": "code",
   "execution_count": 282,
   "id": "ef10d41e",
   "metadata": {},
   "outputs": [],
   "source": [
    "from sklearn.metrics import mean_squared_error,r2_score"
   ]
  },
  {
   "cell_type": "code",
   "execution_count": 299,
   "id": "6701aa7f",
   "metadata": {},
   "outputs": [],
   "source": [
    "def show_output(model,x_train,y_train,x_test,y_test):\n",
    "    \"\"\"\n",
    "    This takes regression model ,X_test, y_test as input and show the accuracy score \n",
    "    \"\"\"\n",
    "    model.fit(x_train,y_train)\n",
    "    y_predict = model.predict(x_test)\n",
    "    y_predic_train = model.predict(x_train)\n",
    "    print(f\"model name is {model}\")\n",
    "    trainmse = mean_squared_error(y_train,y_predic_train)\n",
    "    trainrmse = np.sqrt(trainmse)\n",
    "    trainr2_value = r2_score(y_train,y_predic_train)\n",
    "    print(f\" the mean square error in train set :: {trainmse}\")\n",
    "    print(f\" the rmse square error in train set :: {trainrmse}\")\n",
    "    print(f\" the r2score   in train set  :: {trainr2_value}\")\n",
    "    print('---------------------------------------------------------------')\n",
    "    #print(f'the best parameters is ',model.best_estimator_)\n",
    "    testmse = mean_squared_error(y_test,y_predict)\n",
    "    testrmse = np.sqrt(testmse)\n",
    "    r2_value = r2_score(y_test,y_predict)\n",
    "    accuracy = 2*trainr2_value*r2_value/(trainr2_value+r2_value)\n",
    "    print(f\" the mean square error is : {testmse}\")\n",
    "    print(f\" the rmse square error is : {testrmse}\")\n",
    "    print(f\" the r2score   is : {r2_value}\")\n",
    "    print(f\"the accuracy score is : {accuracy}\")\n",
    "    "
   ]
  },
  {
   "cell_type": "code",
   "execution_count": 300,
   "id": "78e10c5d",
   "metadata": {},
   "outputs": [
    {
     "name": "stdout",
     "output_type": "stream",
     "text": [
      "model name is LinearRegression()\n",
      " the mean square error in train set :: 8.909648135646512\n",
      " the rmse square error in train set :: 2.9849033712411046\n",
      " the r2score   in train set  :: 0.9115577218980105\n",
      "---------------------------------------------------------------\n",
      " the mean square error is : 7.036988010394355\n",
      " the rmse square error is : 2.6527321784142393\n",
      " the r2score   is : 0.932282271924133\n",
      "the accuracy score is : 0.9218035261285676\n"
     ]
    }
   ],
   "source": [
    "show_output(linear_model,X_train_arr,y_train_df,X_test_arr,y_test_df)"
   ]
  },
  {
   "cell_type": "code",
   "execution_count": 301,
   "id": "6977123f",
   "metadata": {},
   "outputs": [],
   "source": [
    "from sklearn.model_selection import GridSearchCV\n"
   ]
  },
  {
   "cell_type": "code",
   "execution_count": 302,
   "id": "4ac64a0b",
   "metadata": {},
   "outputs": [],
   "source": [
    "from sklearn.linear_model import Lasso"
   ]
  },
  {
   "cell_type": "code",
   "execution_count": 303,
   "id": "455e6ca8",
   "metadata": {},
   "outputs": [],
   "source": [
    "grd_search_lasso = GridSearchCV(estimator=Lasso(),param_grid={'alpha':[0,1,10,5]},cv=5)"
   ]
  },
  {
   "cell_type": "code",
   "execution_count": 304,
   "id": "bc9c53ba",
   "metadata": {},
   "outputs": [
    {
     "name": "stdout",
     "output_type": "stream",
     "text": [
      "model name is GridSearchCV(cv=5, estimator=Lasso(), param_grid={'alpha': [0, 1, 10, 5]})\n",
      " the mean square error in train set :: 8.909648202211509\n",
      " the rmse square error in train set :: 2.9849033823913813\n",
      " the r2score   in train set  :: 0.9115577212372482\n",
      "---------------------------------------------------------------\n",
      " the mean square error is : 7.036963570495094\n",
      " the rmse square error is : 2.652727571857897\n",
      " the r2score   is : 0.9322825071120359\n",
      "the accuracy score is : 0.9218036407560258\n"
     ]
    }
   ],
   "source": [
    "show_output(grd_search_lasso,X_train_arr,y_train_df,X_test_arr,y_test_df)"
   ]
  },
  {
   "cell_type": "code",
   "execution_count": 305,
   "id": "8ad300d2",
   "metadata": {},
   "outputs": [],
   "source": [
    "from sklearn.linear_model import Ridge\n"
   ]
  },
  {
   "cell_type": "code",
   "execution_count": 306,
   "id": "7609c398",
   "metadata": {},
   "outputs": [],
   "source": [
    "ridge_reg_model = GridSearchCV(estimator= Ridge(),param_grid={'alpha':[0.1,0,1,10,15]},cv=5)"
   ]
  },
  {
   "cell_type": "code",
   "execution_count": 307,
   "id": "2912f88f",
   "metadata": {},
   "outputs": [
    {
     "name": "stdout",
     "output_type": "stream",
     "text": [
      "model name is GridSearchCV(cv=5, estimator=Ridge(), param_grid={'alpha': [0.1, 0, 1, 10, 15]})\n",
      " the mean square error in train set :: 8.909879618432951\n",
      " the rmse square error in train set :: 2.984942146580558\n",
      " the r2score   in train set  :: 0.9115554240670903\n",
      "---------------------------------------------------------------\n",
      " the mean square error is : 7.033261218690821\n",
      " the rmse square error is : 2.6520296413673097\n",
      " the r2score   is : 0.932318135260379\n",
      "the accuracy score is : 0.9218198816872125\n"
     ]
    }
   ],
   "source": [
    "show_output(ridge_reg_model,X_train_arr,y_train_df,X_test_arr,y_test_df)"
   ]
  },
  {
   "cell_type": "code",
   "execution_count": 308,
   "id": "ff403e91",
   "metadata": {},
   "outputs": [],
   "source": [
    "#using support vector machines\n"
   ]
  },
  {
   "cell_type": "code",
   "execution_count": 309,
   "id": "31a88108",
   "metadata": {},
   "outputs": [],
   "source": [
    "from sklearn.svm import SVR\n"
   ]
  },
  {
   "cell_type": "code",
   "execution_count": 310,
   "id": "559dcd6b",
   "metadata": {},
   "outputs": [],
   "source": [
    "svr_model = GridSearchCV(estimator=SVR(),param_grid={'kernel':['rbf','poly','sigmoid'],'C':[1.0,5,10],'epsilon':[0.1,0.2,1,5]},cv=5)"
   ]
  },
  {
   "cell_type": "code",
   "execution_count": 311,
   "id": "c621fe12",
   "metadata": {},
   "outputs": [
    {
     "name": "stdout",
     "output_type": "stream",
     "text": [
      "model name is GridSearchCV(cv=5, estimator=SVR(),\n",
      "             param_grid={'C': [1.0, 5, 10], 'epsilon': [0.1, 0.2, 1, 5],\n",
      "                         'kernel': ['rbf', 'poly', 'sigmoid']})\n",
      " the mean square error in train set :: 4.371418236064765\n",
      " the rmse square error in train set :: 2.09079368567651\n",
      " the r2score   in train set  :: 0.9566067950778738\n",
      "---------------------------------------------------------------\n",
      " the mean square error is : 6.0915142220338705\n",
      " the rmse square error is : 2.468099313648839\n",
      " the r2score   is : 0.9413806726615626\n",
      "the accuracy score is : 0.948932660019712\n"
     ]
    }
   ],
   "source": [
    "show_output(svr_model,X_train_arr,y_train_df,X_test_arr,y_test_df)"
   ]
  },
  {
   "cell_type": "code",
   "execution_count": 312,
   "id": "389680be",
   "metadata": {},
   "outputs": [],
   "source": [
    "#using decision tree "
   ]
  },
  {
   "cell_type": "code",
   "execution_count": 313,
   "id": "0629462d",
   "metadata": {},
   "outputs": [],
   "source": [
    "from sklearn.tree import DecisionTreeRegressor"
   ]
  },
  {
   "cell_type": "code",
   "execution_count": 314,
   "id": "5873a29c",
   "metadata": {},
   "outputs": [],
   "source": [
    "dec_tree_model = GridSearchCV(DecisionTreeRegressor(),param_grid={'max_depth':[4,5,7,8],'min_samples_split':[10,20,30,40],'min_samples_leaf':[5,10,15]},cv=5)"
   ]
  },
  {
   "cell_type": "code",
   "execution_count": 315,
   "id": "64a95cd5",
   "metadata": {},
   "outputs": [
    {
     "name": "stdout",
     "output_type": "stream",
     "text": [
      "model name is GridSearchCV(cv=5, estimator=DecisionTreeRegressor(),\n",
      "             param_grid={'max_depth': [4, 5, 7, 8],\n",
      "                         'min_samples_leaf': [5, 10, 15],\n",
      "                         'min_samples_split': [10, 20, 30, 40]})\n",
      " the mean square error in train set :: 0.3426994721090664\n",
      " the rmse square error in train set :: 0.5854053912538442\n",
      " the r2score   in train set  :: 0.9965981684622974\n",
      "---------------------------------------------------------------\n",
      " the mean square error is : 0.33108734839595527\n",
      " the rmse square error is : 0.5754019016269891\n",
      " the r2score   is : 0.9968139091618573\n",
      "the accuracy score is : 0.9967060271376097\n"
     ]
    }
   ],
   "source": [
    "show_output(dec_tree_model,X_train_arr,y_train_df,X_test_arr,y_test_df)"
   ]
  },
  {
   "cell_type": "code",
   "execution_count": 316,
   "id": "109228dd",
   "metadata": {},
   "outputs": [],
   "source": [
    "from sklearn.ensemble import RandomForestRegressor\n"
   ]
  },
  {
   "cell_type": "code",
   "execution_count": 317,
   "id": "aeffd1db",
   "metadata": {},
   "outputs": [],
   "source": [
    "rand_forest_model = GridSearchCV(RandomForestRegressor(),param_grid={'n_estimators':[5,10,20,100],'max_depth':[4,5,7,8],'min_samples_split':[10,20,30,40],'min_samples_leaf':[5,10,15]},cv=5)"
   ]
  },
  {
   "cell_type": "code",
   "execution_count": 318,
   "id": "c33c389c",
   "metadata": {},
   "outputs": [
    {
     "name": "stdout",
     "output_type": "stream",
     "text": [
      "model name is GridSearchCV(cv=5, estimator=RandomForestRegressor(),\n",
      "             param_grid={'max_depth': [4, 5, 7, 8],\n",
      "                         'min_samples_leaf': [5, 10, 15],\n",
      "                         'min_samples_split': [10, 20, 30, 40],\n",
      "                         'n_estimators': [5, 10, 20, 100]})\n",
      " the mean square error in train set :: 0.4157673881770069\n",
      " the rmse square error in train set :: 0.6448002699883173\n",
      " the r2score   in train set  :: 0.9958728544145564\n",
      "---------------------------------------------------------------\n",
      " the mean square error is : 0.2592180733635758\n",
      " the rmse square error is : 0.5091346318642799\n",
      " the r2score   is : 0.9975055152888628\n",
      "the accuracy score is : 0.996688516242686\n"
     ]
    }
   ],
   "source": [
    "show_output(rand_forest_model,X_train_arr,y_train_df,X_test_arr,y_test_df)"
   ]
  },
  {
   "cell_type": "code",
   "execution_count": null,
   "id": "05e55fa3",
   "metadata": {},
   "outputs": [],
   "source": []
  }
 ],
 "metadata": {
  "kernelspec": {
   "display_name": "Python 3.8.1 32-bit",
   "language": "python",
   "name": "python3"
  },
  "language_info": {
   "codemirror_mode": {
    "name": "ipython",
    "version": 3
   },
   "file_extension": ".py",
   "mimetype": "text/x-python",
   "name": "python",
   "nbconvert_exporter": "python",
   "pygments_lexer": "ipython3",
   "version": "3.8.1"
  },
  "vscode": {
   "interpreter": {
    "hash": "31e2445afb179f030a56865b930529c0cf97ffdc6daa460e73d2ca3b4708f28f"
   }
  }
 },
 "nbformat": 4,
 "nbformat_minor": 5
}
